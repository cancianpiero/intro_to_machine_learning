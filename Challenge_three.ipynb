{
  "cells": [
    {
      "cell_type": "markdown",
      "metadata": {
        "id": "k-JIRqBlrumk"
      },
      "source": [
        "# Challenge 3: Artifical Neural Networks\n",
        "\n",
        "<a target=\"_blank\" href=\"https://colab.research.google.com/github/GaiaSaveri/intro-to-ml/blob/main/challenges/challenge-three.ipynb\">\n",
        "  <img src=\"https://colab.research.google.com/assets/colab-badge.svg\" alt=\"Open In Colab\"/>\n",
        "</a>\n",
        "\n",
        "\n",
        "Using Fully Connected Neural Networks and Convolutional Neural Networks, perform the following tasks on [this data set](https://pytorch.org/vision/stable/generated/torchvision.datasets.KMNIST.html#torchvision.datasets.KMNIST).\n",
        "1. Data exploration.\n",
        "2. For each architecture, tune the number of the hidden layers ($\\le 3$), the optimizer, and some hyperparameters of your choice. How many tries to do is up to your discretion.\n",
        "3. Summarise your results in a table and comment on them in the report.\n",
        "4. For a model (not necessarily the best performing one), plot training loss vs testing loss and training accuracy vs testing accuracy, and comment on what you see."
      ],
      "id": "k-JIRqBlrumk"
    },
    {
      "cell_type": "code",
      "execution_count": null,
      "metadata": {
        "id": "3jwaI1OIX0AM"
      },
      "outputs": [],
      "source": [
        "# import all needed packages\n",
        "import torch\n",
        "import torch.nn as nn\n",
        "import torch.utils.data as data\n",
        "import torchvision\n",
        "import numpy as np\n",
        "import matplotlib.pyplot as plt\n",
        "from time import time\n",
        "import random\n",
        "import torch.nn.functional as F\n",
        "\n",
        "torch.manual_seed(1)\n",
        "np.random.seed(2)\n",
        "random.seed(3)"
      ],
      "id": "3jwaI1OIX0AM"
    },
    {
      "cell_type": "code",
      "execution_count": null,
      "metadata": {
        "colab": {
          "background_save": true,
          "base_uri": "https://localhost:8080/"
        },
        "id": "0wxkYeIxZmEv",
        "outputId": "520fbe67-d639-4b63-b7db-c86eb7c1083a"
      },
      "outputs": [
        {
          "name": "stdout",
          "output_type": "stream",
          "text": [
            "Downloading http://codh.rois.ac.jp/kmnist/dataset/kmnist/train-images-idx3-ubyte.gz\n",
            "Downloading http://codh.rois.ac.jp/kmnist/dataset/kmnist/train-images-idx3-ubyte.gz to ./data/KMNIST/raw/train-images-idx3-ubyte.gz\n"
          ]
        },
        {
          "name": "stderr",
          "output_type": "stream",
          "text": [
            "100%|██████████| 18165135/18165135 [00:20<00:00, 877008.65it/s] \n"
          ]
        },
        {
          "name": "stdout",
          "output_type": "stream",
          "text": [
            "Extracting ./data/KMNIST/raw/train-images-idx3-ubyte.gz to ./data/KMNIST/raw\n",
            "\n",
            "Downloading http://codh.rois.ac.jp/kmnist/dataset/kmnist/train-labels-idx1-ubyte.gz\n",
            "Downloading http://codh.rois.ac.jp/kmnist/dataset/kmnist/train-labels-idx1-ubyte.gz to ./data/KMNIST/raw/train-labels-idx1-ubyte.gz\n"
          ]
        },
        {
          "name": "stderr",
          "output_type": "stream",
          "text": [
            "100%|██████████| 29497/29497 [00:00<00:00, 132971.12it/s]\n"
          ]
        },
        {
          "name": "stdout",
          "output_type": "stream",
          "text": [
            "Extracting ./data/KMNIST/raw/train-labels-idx1-ubyte.gz to ./data/KMNIST/raw\n",
            "\n",
            "Downloading http://codh.rois.ac.jp/kmnist/dataset/kmnist/t10k-images-idx3-ubyte.gz\n",
            "Downloading http://codh.rois.ac.jp/kmnist/dataset/kmnist/t10k-images-idx3-ubyte.gz to ./data/KMNIST/raw/t10k-images-idx3-ubyte.gz\n"
          ]
        },
        {
          "name": "stderr",
          "output_type": "stream",
          "text": [
            "100%|██████████| 3041136/3041136 [00:03<00:00, 803294.89it/s]\n"
          ]
        },
        {
          "name": "stdout",
          "output_type": "stream",
          "text": [
            "Extracting ./data/KMNIST/raw/t10k-images-idx3-ubyte.gz to ./data/KMNIST/raw\n",
            "\n",
            "Downloading http://codh.rois.ac.jp/kmnist/dataset/kmnist/t10k-labels-idx1-ubyte.gz\n",
            "Downloading http://codh.rois.ac.jp/kmnist/dataset/kmnist/t10k-labels-idx1-ubyte.gz to ./data/KMNIST/raw/t10k-labels-idx1-ubyte.gz\n"
          ]
        },
        {
          "name": "stderr",
          "output_type": "stream",
          "text": [
            "100%|██████████| 5120/5120 [00:00<00:00, 5387565.60it/s]"
          ]
        },
        {
          "name": "stdout",
          "output_type": "stream",
          "text": [
            "Extracting ./data/KMNIST/raw/t10k-labels-idx1-ubyte.gz to ./data/KMNIST/raw\n",
            "\n"
          ]
        },
        {
          "name": "stderr",
          "output_type": "stream",
          "text": [
            "\n"
          ]
        }
      ],
      "source": [
        "batch_size = 32\n",
        "\n",
        "# DataLoader Train\n",
        "trainset = torchvision.datasets.KMNIST(root='./data', train=True, download=True,\n",
        "    transform=torchvision.transforms.ToTensor())\n",
        "\n",
        "trainloader = data.DataLoader(trainset, batch_size=batch_size, shuffle=True)\n",
        "\n",
        "# DataLoader Test\n",
        "testset = torchvision.datasets.KMNIST(root='./data', train=False, download=True,\n",
        "    transform=torchvision.transforms.ToTensor())\n",
        "\n",
        "testloader = data.DataLoader(testset, batch_size=batch_size, shuffle=False)"
      ],
      "id": "0wxkYeIxZmEv"
    },
    {
      "cell_type": "markdown",
      "metadata": {
        "id": "J2OsPNkrXavg"
      },
      "source": [
        "## Data exploration"
      ],
      "id": "J2OsPNkrXavg"
    },
    {
      "cell_type": "code",
      "execution_count": null,
      "metadata": {
        "colab": {
          "background_save": true,
          "base_uri": "https://localhost:8080/"
        },
        "id": "U27WQrZ1bur_",
        "outputId": "85705530-a146-4c2e-c994-335af6d04c0a"
      },
      "outputs": [
        {
          "data": {
            "text/plain": [
              "Dataset KMNIST\n",
              "    Number of datapoints: 10000\n",
              "    Root location: ./data\n",
              "    Split: Test\n",
              "    StandardTransform\n",
              "Transform: ToTensor()"
            ]
          },
          "execution_count": 3,
          "metadata": {},
          "output_type": "execute_result"
        }
      ],
      "source": [
        "testset"
      ],
      "id": "U27WQrZ1bur_"
    },
    {
      "cell_type": "code",
      "execution_count": null,
      "metadata": {
        "colab": {
          "background_save": true,
          "base_uri": "https://localhost:8080/",
          "height": 380
        },
        "id": "nToSiorkXaQK",
        "outputId": "08c7b8a3-3223-426c-c069-26a6684edd61"
      },
      "outputs": [
        {
          "data": {
            "image/png": "[encoded data removed]",
            "text/plain": [
              "<Figure size 750x400 with 10 Axes>"
            ]
          },
          "metadata": {},
          "output_type": "display_data"
        }
      ],
      "source": [
        "num_row = 2\n",
        "num_col = 5\n",
        "\n",
        "fig, axes = plt.subplots(num_row, num_col, figsize=(1.5*num_col, 2*num_row))\n",
        "for i in range(num_row*num_col):\n",
        "    ax = axes[i//num_col, i%num_col]\n",
        "    ax.imshow(trainset.data[i], cmap='gray')\n",
        "    ax.set_title('Label: {}'.format(trainset.targets[i]))\n",
        "plt.tight_layout()\n",
        "plt.show()"
      ],
      "id": "nToSiorkXaQK"
    },
    {
      "cell_type": "code",
      "execution_count": null,
      "metadata": {
        "colab": {
          "background_save": true,
          "base_uri": "https://localhost:8080/"
        },
        "id": "hwV1GeJwaMkb",
        "outputId": "f906e3cf-8ed9-47d4-c894-aa7f22c9670e"
      },
      "outputs": [
        {
          "name": "stdout",
          "output_type": "stream",
          "text": [
            "Single image dimensions: torch.Size([28, 28])\n",
            "Image batch dimensions: torch.Size([32, 1, 28, 28])\n",
            "Image label dimensions: torch.Size([32])\n"
          ]
        }
      ],
      "source": [
        "# printing data shapes\n",
        "print(\"Single image dimensions:\", trainset.data[0].shape)\n",
        "for images, labels in trainloader:\n",
        "    print(\"Image batch dimensions:\", images.shape)\n",
        "    print(\"Image label dimensions:\", labels.shape)\n",
        "    break"
      ],
      "id": "hwV1GeJwaMkb"
    },
    {
      "cell_type": "code",
      "execution_count": null,
      "metadata": {
        "colab": {
          "base_uri": "https://localhost:8080/",
          "height": 452
        },
        "id": "w1rTRy6taMaj",
        "outputId": "5c3c6c4a-2d00-4b76-803f-a5352c66d95c"
      },
      "outputs": [
        {
          "data": {
            "image/png": "[encoded data removed]",
            "text/plain": [
              "<Figure size 640x480 with 1 Axes>"
            ]
          },
          "metadata": {},
          "output_type": "display_data"
        }
      ],
      "source": [
        "# distribuzione delle classi nel training set\n",
        "classes_name, counts = np.unique(trainset.targets, return_counts=True)\n",
        "plt.barh(classes_name, counts)\n",
        "plt.ylim(-1,10)\n",
        "plt.title('Class distribution in training set')\n",
        "plt.show()"
      ],
      "id": "w1rTRy6taMaj"
    },
    {
      "cell_type": "code",
      "execution_count": null,
      "metadata": {
        "colab": {
          "base_uri": "https://localhost:8080/",
          "height": 452
        },
        "id": "F8dYzzCzcelL",
        "outputId": "b4a1c8f4-0bfa-4001-c2d1-25737ed2ebdc"
      },
      "outputs": [
        {
          "data": {
            "image/png": "[encoded data removed]",
            "text/plain": [
              "<Figure size 640x480 with 1 Axes>"
            ]
          },
          "metadata": {},
          "output_type": "display_data"
        }
      ],
      "source": [
        "# distribuzione delle classi nel test set\n",
        "classes_name, counts = np.unique(testset.targets, return_counts=True)\n",
        "plt.barh(classes_name, counts)\n",
        "plt.ylim(-1,10)\n",
        "plt.title('Class distribution in test set')\n",
        "plt.show()"
      ],
      "id": "F8dYzzCzcelL"
    },
    {
      "cell_type": "markdown",
      "metadata": {
        "id": "NVBXzenrXpYD"
      },
      "source": [
        "## Fully Connected Neural Networks"
      ],
      "id": "NVBXzenrXpYD"
    },
    {
      "cell_type": "code",
      "execution_count": null,
      "metadata": {
        "id": "jqZMZQMLxow0"
      },
      "outputs": [],
      "source": [
        "class FCNN_1(nn.Module):\n",
        "    def __init__(self):\n",
        "        super(FCNN_1, self).__init__()\n",
        "        self.l1 = nn.Linear(28*28, 128)\n",
        "        self.l2 = nn.Linear(128, 64)\n",
        "        self.l3 = nn.Linear(64, 10) # output layer\n",
        "\n",
        "    def forward(self, x):\n",
        "        x = x.view(-1, 28*28) # flatten the input image\n",
        "        x = F.relu(self.l1(x))\n",
        "        x = F.relu(self.l2(x))\n",
        "        x = F.softmax(self.l3(x), dim=1) # softmax for classification in 10 classes\n",
        "\n",
        "        return x"
      ],
      "id": "jqZMZQMLxow0"
    },
    {
      "cell_type": "code",
      "execution_count": null,
      "metadata": {
        "id": "e53RCBHhEOS9"
      },
      "outputs": [],
      "source": [
        "class FCNN_2(nn.Module):\n",
        "    def __init__(self):\n",
        "        super(FCNN_2, self).__init__()\n",
        "        self.l1 = nn.Linear(28*28, 128)\n",
        "        self.l2 = nn.Linear(128, 64)\n",
        "        self.l3 = nn.Linear(64, 32)\n",
        "        self.l4 = nn.Linear(32, 10) # output layer\n",
        "\n",
        "    def forward(self, x):\n",
        "        x = x.view(-1, 28*28) # flatten the input image\n",
        "        x = F.relu(self.l1(x))\n",
        "        x = F.relu(self.l2(x))\n",
        "        x = F.relu(self.l3(x))\n",
        "        x = F.softmax(self.l4(x), dim=1) # softmax for classification in 10 classes\n",
        "        return x"
      ],
      "id": "e53RCBHhEOS9"
    },
    {
      "cell_type": "code",
      "execution_count": null,
      "metadata": {
        "id": "amhl0xHZfkcu"
      },
      "outputs": [],
      "source": [
        "def get_accuracy(logit, target):\n",
        "    corrects = (torch.max(logit, 1)[1].view(target.size()).data == target.data).sum()\n",
        "    accuracy = 100.0 * corrects / target.size(0)\n",
        "    return accuracy.item()\n",
        "\n",
        "def train_model(model, num_epochs, trainloader, testloader, criterion, optimizer):\n",
        "\n",
        "    device = torch.device(\"cuda:0\" if torch.cuda.is_available() else \"cpu\")\n",
        "    model = model.to(device)\n",
        "\n",
        "    train_losses = []\n",
        "    train_accs = []\n",
        "    test_losses = []\n",
        "    test_accs = []\n",
        "\n",
        "    for epoch in range(num_epochs):\n",
        "        train_running_loss = 0.0\n",
        "        train_acc = 0.0\n",
        "        test_running_loss = 0.0\n",
        "        test_acc = 0.0\n",
        "\n",
        "        # Set the model to training mode\n",
        "        model = model.train()\n",
        "        start = time()\n",
        "\n",
        "        ## training step\n",
        "        for i, (images, labels) in enumerate(trainloader):\n",
        "\n",
        "            images = images.to(device)\n",
        "            labels = labels.to(device)\n",
        "\n",
        "            ## forward + backprop + loss\n",
        "            logits = model(images) # predizione\n",
        "            loss = criterion(logits, labels) # calcolo la loss\n",
        "\n",
        "            # Reset the gradients to zero\n",
        "            optimizer.zero_grad()\n",
        "\n",
        "            loss.backward()\n",
        "\n",
        "            ## update model params\n",
        "            optimizer.step()\n",
        "\n",
        "            train_running_loss += loss.item()\n",
        "            train_acc += get_accuracy(logits, labels)\n",
        "\n",
        "        train_losses.append(train_running_loss / i)\n",
        "        train_accs.append(train_acc/i)\n",
        "\n",
        "        ## testing step\n",
        "        with torch.no_grad():\n",
        "            model = model.eval()\n",
        "            for j, (images, labels) in enumerate(testloader):\n",
        "\n",
        "                images = images.to(device)\n",
        "                labels = labels.to(device)\n",
        "\n",
        "                logits = model(images)\n",
        "                loss = criterion(logits, labels)\n",
        "\n",
        "                test_running_loss += loss.item()\n",
        "                test_acc += get_accuracy(logits, labels)\n",
        "\n",
        "        test_losses.append(test_running_loss / j)\n",
        "        test_accs.append(test_acc/j)\n",
        "\n",
        "        model.eval()\n",
        "        print(f\"Epoch: {epoch+1} | Train Loss: {train_losses[-1]:.4f} | Train Accuracy: {train_accs[-1]:.4f} | Test Loss: {test_losses[-1]:.4f} | Test Accuracy: {test_accs[-1]:.4f} | Time: {time()-start:.2f}\")\n",
        "\n",
        "    return train_losses, train_accs, test_losses, test_accs"
      ],
      "id": "amhl0xHZfkcu"
    },
    {
      "cell_type": "code",
      "execution_count": null,
      "metadata": {
        "colab": {
          "base_uri": "https://localhost:8080/"
        },
        "id": "ZxpndwewDToF",
        "outputId": "affe4727-2ec1-4fc5-d115-8b391648dc27"
      },
      "outputs": [
        {
          "name": "stdout",
          "output_type": "stream",
          "text": [
            "Epoch: 1 | Train Loss: 1.6829 | Train Accuracy: 78.8137 | Test Loss: 1.7837 | Test Accuracy: 68.6298 | Time: 17.06\n",
            "Epoch: 2 | Train Loss: 1.6097 | Train Accuracy: 85.4889 | Test Loss: 1.7451 | Test Accuracy: 72.4760 | Time: 16.45\n",
            "Epoch: 3 | Train Loss: 1.5765 | Train Accuracy: 88.8007 | Test Loss: 1.7046 | Test Accuracy: 76.4123 | Time: 16.17\n",
            "Epoch: 4 | Train Loss: 1.5621 | Train Accuracy: 90.1397 | Test Loss: 1.6910 | Test Accuracy: 77.9748 | Time: 16.85\n",
            "Epoch: 5 | Train Loss: 1.5536 | Train Accuracy: 90.9618 | Test Loss: 1.6811 | Test Accuracy: 78.9263 | Time: 16.60\n",
            "Epoch: 6 | Train Loss: 1.5479 | Train Accuracy: 91.5205 | Test Loss: 1.6689 | Test Accuracy: 79.8878 | Time: 16.31\n",
            "Epoch: 7 | Train Loss: 1.5422 | Train Accuracy: 92.1041 | Test Loss: 1.6630 | Test Accuracy: 80.6090 | Time: 16.63\n",
            "Epoch: 8 | Train Loss: 1.5347 | Train Accuracy: 92.8145 | Test Loss: 1.6544 | Test Accuracy: 81.5304 | Time: 17.31\n",
            "Epoch: 9 | Train Loss: 1.5294 | Train Accuracy: 93.3498 | Test Loss: 1.6576 | Test Accuracy: 81.0897 | Time: 16.38\n",
            "Epoch: 10 | Train Loss: 1.5263 | Train Accuracy: 93.6583 | Test Loss: 1.6626 | Test Accuracy: 80.5088 | Time: 16.39\n"
          ]
        }
      ],
      "source": [
        "epochs = 10\n",
        "model_fcnn = FCNN_1()\n",
        "criterion = nn.CrossEntropyLoss() # loss function\n",
        "optimizer = torch.optim.Adam(model_fcnn.parameters(), lr=0.001)\n",
        "\n",
        "_, _, _, _, = train_model(model_fcnn, epochs, trainloader, testloader, criterion, optimizer)"
      ],
      "id": "ZxpndwewDToF"
    },
    {
      "cell_type": "code",
      "execution_count": null,
      "metadata": {
        "colab": {
          "base_uri": "https://localhost:8080/"
        },
        "id": "F2CS2Iy7KJUA",
        "outputId": "4f5ae171-1058-44a6-a6b5-94abeb8457cc"
      },
      "outputs": [
        {
          "name": "stdout",
          "output_type": "stream",
          "text": [
            "Epoch: 1 | Train Loss: 1.6979 | Train Accuracy: 77.1211 | Test Loss: 1.7863 | Test Accuracy: 68.4495 | Time: 17.82\n",
            "Epoch: 2 | Train Loss: 1.6045 | Train Accuracy: 85.9942 | Test Loss: 1.7468 | Test Accuracy: 72.0653 | Time: 13.25\n",
            "Epoch: 3 | Train Loss: 1.5840 | Train Accuracy: 87.9686 | Test Loss: 1.7134 | Test Accuracy: 75.6711 | Time: 13.33\n",
            "Epoch: 4 | Train Loss: 1.5689 | Train Accuracy: 89.4260 | Test Loss: 1.7055 | Test Accuracy: 76.3522 | Time: 13.32\n",
            "Epoch: 5 | Train Loss: 1.5613 | Train Accuracy: 90.1497 | Test Loss: 1.7131 | Test Accuracy: 75.4207 | Time: 13.58\n",
            "Epoch: 6 | Train Loss: 1.5559 | Train Accuracy: 90.6767 | Test Loss: 1.6790 | Test Accuracy: 78.9163 | Time: 14.54\n",
            "Epoch: 7 | Train Loss: 1.5515 | Train Accuracy: 91.0919 | Test Loss: 1.6785 | Test Accuracy: 79.0164 | Time: 13.26\n",
            "Epoch: 8 | Train Loss: 1.5426 | Train Accuracy: 92.0041 | Test Loss: 1.6270 | Test Accuracy: 84.3049 | Time: 13.24\n",
            "Epoch: 9 | Train Loss: 1.5193 | Train Accuracy: 94.3403 | Test Loss: 1.6083 | Test Accuracy: 86.0577 | Time: 13.15\n",
            "Epoch: 10 | Train Loss: 1.5122 | Train Accuracy: 95.0457 | Test Loss: 1.6032 | Test Accuracy: 86.5184 | Time: 13.27\n"
          ]
        }
      ],
      "source": [
        "epochs = 10\n",
        "model_fcnn = FCNN_2()\n",
        "criterion = nn.CrossEntropyLoss() # loss function\n",
        "optimizer = torch.optim.Adam(model_fcnn.parameters(), lr=0.001)\n",
        "\n",
        "_, _, _, _, = train_model(model_fcnn, epochs, trainloader, testloader, criterion, optimizer)"
      ],
      "id": "F2CS2Iy7KJUA"
    },
    {
      "cell_type": "code",
      "execution_count": null,
      "metadata": {
        "colab": {
          "base_uri": "https://localhost:8080/"
        },
        "id": "n1vrOuGRzbu9",
        "outputId": "0915c133-1a01-41cf-a00e-6ea7bd762b02"
      },
      "outputs": [
        {
          "name": "stdout",
          "output_type": "stream",
          "text": [
            "Learning rate: 0.1\n",
            "Epoch: 1 | Train Loss: 2.3625 | Train Accuracy: 9.9937 | Test Loss: 2.3688 | Test Accuracy: 10.0260 | Time: 25.32\n",
            "Epoch: 2 | Train Loss: 2.3624 | Train Accuracy: 10.0053 | Test Loss: 2.3688 | Test Accuracy: 10.0260 | Time: 20.22\n",
            "Epoch: 3 | Train Loss: 2.3624 | Train Accuracy: 10.0053 | Test Loss: 2.3688 | Test Accuracy: 10.0260 | Time: 20.54\n",
            "Epoch: 4 | Train Loss: 2.3624 | Train Accuracy: 10.0053 | Test Loss: 2.3688 | Test Accuracy: 10.0260 | Time: 21.08\n",
            "Epoch: 5 | Train Loss: 2.3624 | Train Accuracy: 10.0053 | Test Loss: 2.3688 | Test Accuracy: 10.0260 | Time: 20.22\n",
            "Epoch: 6 | Train Loss: 2.3624 | Train Accuracy: 10.0053 | Test Loss: 2.3688 | Test Accuracy: 10.0260 | Time: 21.85\n",
            "Epoch: 7 | Train Loss: 2.3624 | Train Accuracy: 10.0053 | Test Loss: 2.3688 | Test Accuracy: 10.0260 | Time: 20.82\n",
            "Epoch: 8 | Train Loss: 2.3624 | Train Accuracy: 10.0053 | Test Loss: 2.3688 | Test Accuracy: 10.0260 | Time: 20.88\n",
            "Epoch: 9 | Train Loss: 2.3624 | Train Accuracy: 10.0053 | Test Loss: 2.3688 | Test Accuracy: 10.0260 | Time: 21.25\n",
            "Epoch: 10 | Train Loss: 2.3624 | Train Accuracy: 10.0053 | Test Loss: 2.3688 | Test Accuracy: 10.0260 | Time: 21.04\n",
            "Learning rate: 0.01\n",
            "Epoch: 1 | Train Loss: 2.0573 | Train Accuracy: 40.4216 | Test Loss: 2.1470 | Test Accuracy: 32.1915 | Time: 18.54\n",
            "Epoch: 2 | Train Loss: 2.1779 | Train Accuracy: 28.4485 | Test Loss: 2.2149 | Test Accuracy: 25.4207 | Time: 19.76\n",
            "Epoch: 3 | Train Loss: 2.1570 | Train Accuracy: 30.5530 | Test Loss: 2.2204 | Test Accuracy: 24.8598 | Time: 18.79\n",
            "Epoch: 4 | Train Loss: 2.1673 | Train Accuracy: 29.5191 | Test Loss: 2.2674 | Test Accuracy: 20.1623 | Time: 19.91\n",
            "Epoch: 5 | Train Loss: 2.2696 | Train Accuracy: 19.2903 | Test Loss: 2.3005 | Test Accuracy: 16.8470 | Time: 19.68\n",
            "Epoch: 6 | Train Loss: 2.3078 | Train Accuracy: 15.4616 | Test Loss: 2.3284 | Test Accuracy: 14.0625 | Time: 20.52\n",
            "Epoch: 7 | Train Loss: 2.3474 | Train Accuracy: 11.5061 | Test Loss: 2.3681 | Test Accuracy: 10.0962 | Time: 20.16\n",
            "Epoch: 8 | Train Loss: 2.3250 | Train Accuracy: 13.7490 | Test Loss: 2.3423 | Test Accuracy: 12.6803 | Time: 20.08\n",
            "Epoch: 9 | Train Loss: 2.2704 | Train Accuracy: 19.2086 | Test Loss: 2.2769 | Test Accuracy: 19.2107 | Time: 20.57\n",
            "Epoch: 10 | Train Loss: 2.2479 | Train Accuracy: 21.4598 | Test Loss: 2.3141 | Test Accuracy: 15.4948 | Time: 19.52\n",
            "Learning rate: 0.001\n",
            "Epoch: 1 | Train Loss: 1.7794 | Train Accuracy: 68.7517 | Test Loss: 1.8324 | Test Accuracy: 63.8021 | Time: 18.03\n",
            "Epoch: 2 | Train Loss: 1.6412 | Train Accuracy: 82.3156 | Test Loss: 1.7113 | Test Accuracy: 76.0216 | Time: 16.97\n",
            "Epoch: 3 | Train Loss: 1.5557 | Train Accuracy: 90.8768 | Test Loss: 1.6587 | Test Accuracy: 81.0196 | Time: 16.43\n",
            "Epoch: 4 | Train Loss: 1.5346 | Train Accuracy: 92.9262 | Test Loss: 1.6459 | Test Accuracy: 82.2316 | Time: 17.71\n",
            "Epoch: 5 | Train Loss: 1.5250 | Train Accuracy: 93.8084 | Test Loss: 1.6187 | Test Accuracy: 85.1362 | Time: 17.18\n",
            "Epoch: 6 | Train Loss: 1.5178 | Train Accuracy: 94.5087 | Test Loss: 1.6229 | Test Accuracy: 84.5152 | Time: 17.72\n",
            "Epoch: 7 | Train Loss: 1.5148 | Train Accuracy: 94.8006 | Test Loss: 1.6198 | Test Accuracy: 85.0461 | Time: 17.74\n",
            "Epoch: 8 | Train Loss: 1.5100 | Train Accuracy: 95.2375 | Test Loss: 1.6029 | Test Accuracy: 86.6186 | Time: 17.23\n",
            "Epoch: 9 | Train Loss: 1.5085 | Train Accuracy: 95.4276 | Test Loss: 1.6082 | Test Accuracy: 86.1078 | Time: 18.05\n",
            "Epoch: 10 | Train Loss: 1.5058 | Train Accuracy: 95.6577 | Test Loss: 1.6001 | Test Accuracy: 86.8590 | Time: 17.51\n",
            "Learning rate: 0.0001\n",
            "Epoch: 1 | Train Loss: 1.9265 | Train Accuracy: 57.3506 | Test Loss: 1.9192 | Test Accuracy: 56.5705 | Time: 16.85\n",
            "Epoch: 2 | Train Loss: 1.7353 | Train Accuracy: 74.5081 | Test Loss: 1.8630 | Test Accuracy: 62.0893 | Time: 17.21\n",
            "Epoch: 3 | Train Loss: 1.6769 | Train Accuracy: 79.9276 | Test Loss: 1.8365 | Test Accuracy: 64.1827 | Time: 16.59\n",
            "Epoch: 4 | Train Loss: 1.6551 | Train Accuracy: 81.7253 | Test Loss: 1.8204 | Test Accuracy: 65.2644 | Time: 17.34\n",
            "Epoch: 5 | Train Loss: 1.6418 | Train Accuracy: 82.8775 | Test Loss: 1.8026 | Test Accuracy: 67.1875 | Time: 17.42\n",
            "Epoch: 6 | Train Loss: 1.6319 | Train Accuracy: 83.7663 | Test Loss: 1.7951 | Test Accuracy: 67.8886 | Time: 16.63\n",
            "Epoch: 7 | Train Loss: 1.6241 | Train Accuracy: 84.4250 | Test Loss: 1.7914 | Test Accuracy: 67.9487 | Time: 17.10\n",
            "Epoch: 8 | Train Loss: 1.6180 | Train Accuracy: 84.9837 | Test Loss: 1.7785 | Test Accuracy: 69.3510 | Time: 17.00\n",
            "Epoch: 9 | Train Loss: 1.6120 | Train Accuracy: 85.5690 | Test Loss: 1.7720 | Test Accuracy: 70.0421 | Time: 16.99\n",
            "Epoch: 10 | Train Loss: 1.6070 | Train Accuracy: 86.1443 | Test Loss: 1.7587 | Test Accuracy: 71.4243 | Time: 17.76\n"
          ]
        }
      ],
      "source": [
        "# tuning of hyper-parameters using Adam\n",
        "learning_rates = [0.1, 0.01, 0.001, 0.0001]\n",
        "\n",
        "for lr in learning_rates:\n",
        "    model = FCNN_2()\n",
        "    criterion = nn.CrossEntropyLoss()\n",
        "    optimizer = torch.optim.Adam(model.parameters(), lr=lr)\n",
        "\n",
        "    train_losses = []\n",
        "    train_accs = []\n",
        "    test_losses = []\n",
        "    test_accs = []\n",
        "\n",
        "    print(\"Learning rate:\", lr)\n",
        "\n",
        "    for epoch in range(10):\n",
        "        device = torch.device(\"cuda:0\" if torch.cuda.is_available() else \"cpu\")\n",
        "        model = model.to(device)\n",
        "\n",
        "        train_running_loss = 0.0\n",
        "        train_acc = 0.0\n",
        "        test_running_loss = 0.0\n",
        "        test_acc = 0.0\n",
        "\n",
        "        # Set the model to training mode\n",
        "        model = model.train()\n",
        "        start = time()\n",
        "\n",
        "        ## training step\n",
        "        for i, (images, labels) in enumerate(trainloader):\n",
        "\n",
        "            images = images.to(device)\n",
        "            labels = labels.to(device)\n",
        "\n",
        "            ## forward + backprop + loss\n",
        "            logits = model(images)\n",
        "            loss = criterion(logits, labels)\n",
        "\n",
        "            # Reset the gradients to zero\n",
        "            optimizer.zero_grad()\n",
        "\n",
        "            loss.backward()\n",
        "\n",
        "            ## update model params\n",
        "            optimizer.step()\n",
        "\n",
        "            train_running_loss += loss.item()\n",
        "            train_acc += get_accuracy(logits, labels)\n",
        "\n",
        "        train_losses.append(train_running_loss / i)\n",
        "        train_accs.append(train_acc/i)\n",
        "\n",
        "        ## testing step\n",
        "        with torch.no_grad():\n",
        "            model = model.eval()\n",
        "            for j, (images, labels) in enumerate(testloader):\n",
        "\n",
        "                images = images.to(device)\n",
        "                labels = labels.to(device)\n",
        "\n",
        "                logits = model(images)\n",
        "                loss = criterion(logits, labels)\n",
        "\n",
        "                test_running_loss += loss.item()\n",
        "                test_acc += get_accuracy(logits, labels)\n",
        "\n",
        "        test_losses.append(test_running_loss / j)\n",
        "        test_accs.append(test_acc/j)\n",
        "\n",
        "        model.eval()\n",
        "        print(f\"Epoch: {epoch+1} | Train Loss: {train_losses[-1]:.4f} | Train Accuracy: {train_accs[-1]:.4f} | Test Loss: {test_losses[-1]:.4f} | Test Accuracy: {test_accs[-1]:.4f} | Time: {time()-start:.2f}\")"
      ],
      "id": "n1vrOuGRzbu9"
    },
    {
      "cell_type": "code",
      "execution_count": null,
      "metadata": {
        "colab": {
          "base_uri": "https://localhost:8080/"
        },
        "id": "tDB9nC_y9a0J",
        "outputId": "8ea63b5d-bd84-4836-b353-fd815f5e8499"
      },
      "outputs": [
        {
          "name": "stdout",
          "output_type": "stream",
          "text": [
            "Learning rate: 0.1\n",
            "Epoch: 1 | Train Loss: 2.1317 | Train Accuracy: 34.4467 | Test Loss: 1.9665 | Test Accuracy: 50.4207 | Time: 14.39\n",
            "Epoch: 2 | Train Loss: 1.7779 | Train Accuracy: 68.6833 | Test Loss: 1.9192 | Test Accuracy: 54.8878 | Time: 14.72\n",
            "Epoch: 3 | Train Loss: 1.7348 | Train Accuracy: 72.8772 | Test Loss: 1.8740 | Test Accuracy: 59.3149 | Time: 14.42\n",
            "Epoch: 4 | Train Loss: 1.6976 | Train Accuracy: 76.6259 | Test Loss: 1.8332 | Test Accuracy: 63.4716 | Time: 14.92\n",
            "Epoch: 5 | Train Loss: 1.6747 | Train Accuracy: 78.7937 | Test Loss: 1.8029 | Test Accuracy: 66.3862 | Time: 15.56\n",
            "Epoch: 6 | Train Loss: 1.5991 | Train Accuracy: 86.8563 | Test Loss: 1.7310 | Test Accuracy: 74.3790 | Time: 14.60\n",
            "Epoch: 7 | Train Loss: 1.5719 | Train Accuracy: 89.2943 | Test Loss: 1.7028 | Test Accuracy: 76.6927 | Time: 14.64\n",
            "Epoch: 8 | Train Loss: 1.5620 | Train Accuracy: 90.2715 | Test Loss: 1.6948 | Test Accuracy: 77.5541 | Time: 14.84\n",
            "Epoch: 9 | Train Loss: 1.5555 | Train Accuracy: 90.8668 | Test Loss: 1.6826 | Test Accuracy: 78.6258 | Time: 14.62\n",
            "Epoch: 10 | Train Loss: 1.5499 | Train Accuracy: 91.3621 | Test Loss: 1.6767 | Test Accuracy: 79.1567 | Time: 15.29\n",
            "Learning rate: 0.01\n",
            "Epoch: 1 | Train Loss: 2.3035 | Train Accuracy: 10.7291 | Test Loss: 2.3096 | Test Accuracy: 10.3866 | Time: 14.74\n",
            "Epoch: 2 | Train Loss: 2.3027 | Train Accuracy: 14.2826 | Test Loss: 2.3089 | Test Accuracy: 12.3097 | Time: 14.47\n",
            "Epoch: 3 | Train Loss: 2.3013 | Train Accuracy: 13.1687 | Test Loss: 2.3075 | Test Accuracy: 10.9175 | Time: 14.62\n",
            "Epoch: 4 | Train Loss: 2.2980 | Train Accuracy: 11.3644 | Test Loss: 2.3038 | Test Accuracy: 11.0877 | Time: 14.78\n",
            "Epoch: 5 | Train Loss: 2.2824 | Train Accuracy: 12.6384 | Test Loss: 2.2801 | Test Accuracy: 14.2328 | Time: 14.92\n",
            "Epoch: 6 | Train Loss: 2.2354 | Train Accuracy: 21.7633 | Test Loss: 2.2249 | Test Accuracy: 24.6695 | Time: 15.69\n",
            "Epoch: 7 | Train Loss: 2.1377 | Train Accuracy: 32.0388 | Test Loss: 2.1201 | Test Accuracy: 38.3714 | Time: 14.74\n",
            "Epoch: 8 | Train Loss: 1.9599 | Train Accuracy: 54.8593 | Test Loss: 2.0049 | Test Accuracy: 48.6478 | Time: 14.89\n",
            "Epoch: 9 | Train Loss: 1.8314 | Train Accuracy: 65.6067 | Test Loss: 1.9476 | Test Accuracy: 53.6959 | Time: 14.90\n",
            "Epoch: 10 | Train Loss: 1.7889 | Train Accuracy: 68.6516 | Test Loss: 1.9241 | Test Accuracy: 55.2183 | Time: 15.15\n",
            "Learning rate: 0.001\n",
            "Epoch: 1 | Train Loss: 2.3039 | Train Accuracy: 11.9114 | Test Loss: 2.3100 | Test Accuracy: 12.0593 | Time: 15.80\n",
            "Epoch: 2 | Train Loss: 2.3039 | Train Accuracy: 12.6734 | Test Loss: 2.3100 | Test Accuracy: 12.7003 | Time: 15.29\n",
            "Epoch: 3 | Train Loss: 2.3038 | Train Accuracy: 13.4322 | Test Loss: 2.3100 | Test Accuracy: 13.2011 | Time: 15.04\n",
            "Epoch: 4 | Train Loss: 2.3037 | Train Accuracy: 14.1259 | Test Loss: 2.3099 | Test Accuracy: 13.6719 | Time: 15.21\n",
            "Epoch: 5 | Train Loss: 2.3037 | Train Accuracy: 14.7846 | Test Loss: 2.3099 | Test Accuracy: 14.3229 | Time: 15.18\n",
            "Epoch: 6 | Train Loss: 2.3036 | Train Accuracy: 15.2998 | Test Loss: 2.3098 | Test Accuracy: 14.7035 | Time: 15.89\n",
            "Epoch: 7 | Train Loss: 2.3036 | Train Accuracy: 15.8018 | Test Loss: 2.3098 | Test Accuracy: 15.0942 | Time: 15.32\n",
            "Epoch: 8 | Train Loss: 2.3035 | Train Accuracy: 16.2237 | Test Loss: 2.3097 | Test Accuracy: 15.4948 | Time: 15.29\n",
            "Epoch: 9 | Train Loss: 2.3034 | Train Accuracy: 16.5188 | Test Loss: 2.3097 | Test Accuracy: 15.7652 | Time: 14.83\n",
            "Epoch: 10 | Train Loss: 2.3033 | Train Accuracy: 16.8323 | Test Loss: 2.3096 | Test Accuracy: 15.9555 | Time: 15.25\n",
            "Learning rate: 0.0001\n",
            "Epoch: 1 | Train Loss: 2.3038 | Train Accuracy: 10.0053 | Test Loss: 2.3100 | Test Accuracy: 10.0260 | Time: 15.14\n",
            "Epoch: 2 | Train Loss: 2.3038 | Train Accuracy: 10.0053 | Test Loss: 2.3100 | Test Accuracy: 10.0260 | Time: 14.63\n",
            "Epoch: 3 | Train Loss: 2.3038 | Train Accuracy: 10.0053 | Test Loss: 2.3100 | Test Accuracy: 10.0260 | Time: 14.55\n",
            "Epoch: 4 | Train Loss: 2.3038 | Train Accuracy: 10.0053 | Test Loss: 2.3100 | Test Accuracy: 10.0260 | Time: 14.63\n",
            "Epoch: 5 | Train Loss: 2.3038 | Train Accuracy: 10.0053 | Test Loss: 2.3100 | Test Accuracy: 10.0260 | Time: 14.55\n",
            "Epoch: 6 | Train Loss: 2.3038 | Train Accuracy: 10.0053 | Test Loss: 2.3100 | Test Accuracy: 10.0260 | Time: 15.05\n",
            "Epoch: 7 | Train Loss: 2.3038 | Train Accuracy: 10.0053 | Test Loss: 2.3100 | Test Accuracy: 10.0260 | Time: 15.32\n",
            "Epoch: 8 | Train Loss: 2.3038 | Train Accuracy: 10.0053 | Test Loss: 2.3100 | Test Accuracy: 10.0260 | Time: 14.85\n",
            "Epoch: 9 | Train Loss: 2.3038 | Train Accuracy: 10.0053 | Test Loss: 2.3100 | Test Accuracy: 10.0260 | Time: 14.60\n",
            "Epoch: 10 | Train Loss: 2.3038 | Train Accuracy: 10.0053 | Test Loss: 2.3100 | Test Accuracy: 10.0260 | Time: 14.59\n"
          ]
        }
      ],
      "source": [
        "# tuning of hyper-parameters using SGD\n",
        "learning_rates = [0.1, 0.01, 0.001, 0.0001]\n",
        "\n",
        "for lr in learning_rates:\n",
        "    model = FCNN_2()\n",
        "    criterion = nn.CrossEntropyLoss()\n",
        "    optimizer = torch.optim.SGD(model.parameters(), lr=lr)\n",
        "\n",
        "    train_losses = []\n",
        "    train_accs = []\n",
        "    test_losses = []\n",
        "    test_accs = []\n",
        "\n",
        "    print(\"Learning rate:\", lr)\n",
        "\n",
        "    for epoch in range(10):\n",
        "        device = torch.device(\"cuda:0\" if torch.cuda.is_available() else \"cpu\")\n",
        "        model = model.to(device)\n",
        "\n",
        "        train_running_loss = 0.0\n",
        "        train_acc = 0.0\n",
        "        test_running_loss = 0.0\n",
        "        test_acc = 0.0\n",
        "\n",
        "        # Set the model to training mode\n",
        "        model = model.train()\n",
        "        start = time()\n",
        "\n",
        "        ## training step\n",
        "        for i, (images, labels) in enumerate(trainloader):\n",
        "\n",
        "            images = images.to(device)\n",
        "            labels = labels.to(device)\n",
        "\n",
        "            ## forward + backprop + loss\n",
        "            logits = model(images)\n",
        "            loss = criterion(logits, labels)\n",
        "\n",
        "            # Reset the gradients to zero\n",
        "            optimizer.zero_grad()\n",
        "\n",
        "            loss.backward()\n",
        "\n",
        "            ## update model params\n",
        "            optimizer.step()\n",
        "\n",
        "            train_running_loss += loss.item()\n",
        "            train_acc += get_accuracy(logits, labels)\n",
        "\n",
        "        train_losses.append(train_running_loss / i)\n",
        "        train_accs.append(train_acc/i)\n",
        "\n",
        "        ## testing step\n",
        "        with torch.no_grad():\n",
        "            model = model.eval()\n",
        "            for j, (images, labels) in enumerate(testloader):\n",
        "\n",
        "                images = images.to(device)\n",
        "                labels = labels.to(device)\n",
        "\n",
        "                logits = model(images)\n",
        "                loss = criterion(logits, labels)\n",
        "\n",
        "                test_running_loss += loss.item()\n",
        "                test_acc += get_accuracy(logits, labels)\n",
        "\n",
        "        test_losses.append(test_running_loss / j)\n",
        "        test_accs.append(test_acc/j)\n",
        "\n",
        "        model.eval()\n",
        "        print(f\"Epoch: {epoch+1} | Train Loss: {train_losses[-1]:.4f} | Train Accuracy: {train_accs[-1]:.4f} | Test Loss: {test_losses[-1]:.4f} | Test Accuracy: {test_accs[-1]:.4f} | Time: {time()-start:.2f}\")"
      ],
      "id": "tDB9nC_y9a0J"
    },
    {
      "cell_type": "code",
      "execution_count": null,
      "metadata": {
        "colab": {
          "base_uri": "https://localhost:8080/"
        },
        "id": "15m_mnq3pTgl",
        "outputId": "15d928b7-b49f-4a8a-816d-1c5cb005bf56"
      },
      "outputs": [
        {
          "name": "stdout",
          "output_type": "stream",
          "text": [
            "Epoch: 1 | Train Loss: 1.7020 | Train Accuracy: 76.7976 | Test Loss: 1.7969 | Test Accuracy: 67.3077 | Time: 13.41\n",
            "Epoch: 2 | Train Loss: 1.6236 | Train Accuracy: 83.9981 | Test Loss: 1.7642 | Test Accuracy: 70.3926 | Time: 13.40\n",
            "Epoch: 3 | Train Loss: 1.5873 | Train Accuracy: 87.5951 | Test Loss: 1.7325 | Test Accuracy: 73.8482 | Time: 13.22\n",
            "Epoch: 4 | Train Loss: 1.5673 | Train Accuracy: 89.6328 | Test Loss: 1.7141 | Test Accuracy: 75.4006 | Time: 13.27\n",
            "Epoch: 5 | Train Loss: 1.5531 | Train Accuracy: 91.0102 | Test Loss: 1.6794 | Test Accuracy: 79.0365 | Time: 13.31\n",
            "Epoch: 6 | Train Loss: 1.5451 | Train Accuracy: 91.7940 | Test Loss: 1.6726 | Test Accuracy: 79.6775 | Time: 13.23\n",
            "Epoch: 7 | Train Loss: 1.5422 | Train Accuracy: 92.0374 | Test Loss: 1.6734 | Test Accuracy: 79.5272 | Time: 13.40\n",
            "Epoch: 8 | Train Loss: 1.5369 | Train Accuracy: 92.5794 | Test Loss: 1.6583 | Test Accuracy: 81.0998 | Time: 13.43\n",
            "Epoch: 9 | Train Loss: 1.5324 | Train Accuracy: 93.0213 | Test Loss: 1.6578 | Test Accuracy: 81.1398 | Time: 13.61\n",
            "Epoch: 10 | Train Loss: 1.5324 | Train Accuracy: 93.0096 | Test Loss: 1.6529 | Test Accuracy: 81.5204 | Time: 13.67\n",
            "Epoch: 11 | Train Loss: 1.5292 | Train Accuracy: 93.3314 | Test Loss: 1.6586 | Test Accuracy: 80.9796 | Time: 13.26\n",
            "Epoch: 12 | Train Loss: 1.5289 | Train Accuracy: 93.3698 | Test Loss: 1.6492 | Test Accuracy: 81.8409 | Time: 13.47\n",
            "Epoch: 13 | Train Loss: 1.5270 | Train Accuracy: 93.5332 | Test Loss: 1.6531 | Test Accuracy: 81.5705 | Time: 13.55\n",
            "Epoch: 14 | Train Loss: 1.5254 | Train Accuracy: 93.7033 | Test Loss: 1.6494 | Test Accuracy: 81.8309 | Time: 13.50\n",
            "Epoch: 15 | Train Loss: 1.5258 | Train Accuracy: 93.6549 | Test Loss: 1.6566 | Test Accuracy: 81.1398 | Time: 13.39\n",
            "Epoch: 16 | Train Loss: 1.5239 | Train Accuracy: 93.8534 | Test Loss: 1.6489 | Test Accuracy: 81.9511 | Time: 13.43\n",
            "Epoch: 17 | Train Loss: 1.5246 | Train Accuracy: 93.7700 | Test Loss: 1.6493 | Test Accuracy: 81.9311 | Time: 13.37\n",
            "Epoch: 18 | Train Loss: 1.5246 | Train Accuracy: 93.7884 | Test Loss: 1.6462 | Test Accuracy: 82.1815 | Time: 13.39\n",
            "Epoch: 19 | Train Loss: 1.5222 | Train Accuracy: 94.0168 | Test Loss: 1.6480 | Test Accuracy: 82.0012 | Time: 14.06\n",
            "Epoch: 20 | Train Loss: 1.5221 | Train Accuracy: 94.0218 | Test Loss: 1.6460 | Test Accuracy: 82.2316 | Time: 13.51\n"
          ]
        }
      ],
      "source": [
        "epochs = 20\n",
        "model_fcnn = FCNN_2()\n",
        "criterion = nn.CrossEntropyLoss() # loss function\n",
        "optimizer = torch.optim.Adam(model_fcnn.parameters(), lr=0.001)\n",
        "\n",
        "train_losses_fcnn, train_accs_fcnn, test_losses_fcnn, test_accs_fcnn = train_model(model_fcnn, epochs, trainloader, testloader, criterion, optimizer)"
      ],
      "id": "15m_mnq3pTgl"
    },
    {
      "cell_type": "markdown",
      "metadata": {
        "id": "z-bPJvfQXrQQ"
      },
      "source": [
        "## Convolutional Neural Networks"
      ],
      "id": "z-bPJvfQXrQQ"
    },
    {
      "cell_type": "code",
      "execution_count": null,
      "metadata": {
        "id": "opp01frEU8Ll"
      },
      "outputs": [],
      "source": [
        "class CNN_1(nn.Module):\n",
        "    def __init__(self):\n",
        "        super(CNN_1, self).__init__()\n",
        "        self.conv1 = nn.Conv2d(in_channels=1, out_channels=16, kernel_size=5)\n",
        "        self.conv2 = nn.Conv2d(in_channels=16, out_channels=32, kernel_size=5)\n",
        "        self.l1 = nn.Linear(32*4*4, 10)\n",
        "\n",
        "    def forward(self, x):\n",
        "        x = torch.relu(self.conv1(x))\n",
        "        x = nn.functional.max_pool2d(x, kernel_size=2)\n",
        "        x = torch.relu(self.conv2(x))\n",
        "        x = nn.functional.max_pool2d(x, kernel_size=2)\n",
        "        x = x.view(-1, 32*4*4)\n",
        "        x = self.l1(x)\n",
        "\n",
        "        return nn.functional.softmax(x, dim=1)"
      ],
      "id": "opp01frEU8Ll"
    },
    {
      "cell_type": "code",
      "execution_count": null,
      "metadata": {
        "id": "VBUOOu0TU9V_"
      },
      "outputs": [],
      "source": [
        "class CNN_2(nn.Module):\n",
        "    def __init__(self):\n",
        "        super(CNN_2, self).__init__()\n",
        "        self.conv1 = nn.Conv2d(in_channels=1, out_channels=16, kernel_size=5)\n",
        "        self.conv2 = nn.Conv2d(in_channels=16, out_channels=32, kernel_size=5)\n",
        "        self.l1 = nn.Linear(32*4*4, 128)\n",
        "        self.l2 = nn.Linear(128, 10)\n",
        "\n",
        "    def forward(self, x):\n",
        "        x = torch.relu(self.conv1(x))\n",
        "        x = nn.functional.max_pool2d(x, kernel_size=2)\n",
        "        x = torch.relu(self.conv2(x))\n",
        "        x = nn.functional.max_pool2d(x, kernel_size=2)\n",
        "        x = x.view(-1, 32*4*4)\n",
        "        x = F.relu(self.l1(x))\n",
        "        x = self.l2(x)\n",
        "\n",
        "        return nn.functional.softmax(x, dim=1)"
      ],
      "id": "VBUOOu0TU9V_"
    },
    {
      "cell_type": "code",
      "execution_count": null,
      "metadata": {
        "colab": {
          "base_uri": "https://localhost:8080/"
        },
        "id": "HmkU4hh-fDik",
        "outputId": "4c4265d1-4d14-49e9-b1c5-1431851f63a8"
      },
      "outputs": [
        {
          "name": "stdout",
          "output_type": "stream",
          "text": [
            "Epoch: 1 | Train Loss: 1.6673 | Train Accuracy: 80.0594 | Test Loss: 1.7529 | Test Accuracy: 71.5845 | Time: 39.78\n",
            "Epoch: 2 | Train Loss: 1.5680 | Train Accuracy: 89.6645 | Test Loss: 1.6908 | Test Accuracy: 77.8145 | Time: 39.08\n",
            "Epoch: 3 | Train Loss: 1.5503 | Train Accuracy: 91.3471 | Test Loss: 1.6578 | Test Accuracy: 80.9896 | Time: 38.27\n",
            "Epoch: 4 | Train Loss: 1.5425 | Train Accuracy: 92.0841 | Test Loss: 1.6533 | Test Accuracy: 81.6607 | Time: 38.04\n",
            "Epoch: 5 | Train Loss: 1.5370 | Train Accuracy: 92.5860 | Test Loss: 1.6387 | Test Accuracy: 83.0028 | Time: 37.29\n",
            "Epoch: 6 | Train Loss: 1.5267 | Train Accuracy: 93.6499 | Test Loss: 1.6234 | Test Accuracy: 84.5853 | Time: 39.61\n",
            "Epoch: 7 | Train Loss: 1.5224 | Train Accuracy: 94.0201 | Test Loss: 1.6255 | Test Accuracy: 84.2849 | Time: 39.57\n",
            "Epoch: 8 | Train Loss: 1.5195 | Train Accuracy: 94.3453 | Test Loss: 1.6103 | Test Accuracy: 85.7572 | Time: 39.55\n",
            "Epoch: 9 | Train Loss: 1.5170 | Train Accuracy: 94.5821 | Test Loss: 1.6187 | Test Accuracy: 84.9659 | Time: 40.10\n",
            "Epoch: 10 | Train Loss: 1.5154 | Train Accuracy: 94.7389 | Test Loss: 1.6170 | Test Accuracy: 85.1763 | Time: 41.87\n"
          ]
        }
      ],
      "source": [
        "epochs = 10\n",
        "model_cnn = CNN_1()\n",
        "criterion = nn.CrossEntropyLoss() # loss function\n",
        "optimizer = torch.optim.Adam(model_cnn.parameters(), lr=0.001)\n",
        "\n",
        "_, _, _, _, = train_model(model_cnn, epochs, trainloader, testloader, criterion, optimizer)"
      ],
      "id": "HmkU4hh-fDik"
    },
    {
      "cell_type": "code",
      "execution_count": null,
      "metadata": {
        "colab": {
          "base_uri": "https://localhost:8080/"
        },
        "id": "xvzHkLEoH1zb",
        "outputId": "02cde8ea-5fb2-4f2a-a46a-af04f5d12090"
      },
      "outputs": [
        {
          "name": "stdout",
          "output_type": "stream",
          "text": [
            "Epoch: 1 | Train Loss: 1.6718 | Train Accuracy: 79.3690 | Test Loss: 1.7384 | Test Accuracy: 73.1270 | Time: 43.10\n",
            "Epoch: 2 | Train Loss: 1.5732 | Train Accuracy: 89.0358 | Test Loss: 1.6712 | Test Accuracy: 79.9679 | Time: 42.50\n",
            "Epoch: 3 | Train Loss: 1.5531 | Train Accuracy: 91.0302 | Test Loss: 1.6574 | Test Accuracy: 80.9896 | Time: 42.42\n",
            "Epoch: 4 | Train Loss: 1.5315 | Train Accuracy: 93.1530 | Test Loss: 1.6328 | Test Accuracy: 83.5737 | Time: 42.97\n",
            "Epoch: 5 | Train Loss: 1.5259 | Train Accuracy: 93.6733 | Test Loss: 1.6225 | Test Accuracy: 84.5853 | Time: 41.97\n",
            "Epoch: 6 | Train Loss: 1.5045 | Train Accuracy: 95.8344 | Test Loss: 1.5500 | Test Accuracy: 91.9271 | Time: 41.79\n",
            "Epoch: 7 | Train Loss: 1.4854 | Train Accuracy: 97.7555 | Test Loss: 1.5402 | Test Accuracy: 92.9387 | Time: 41.50\n",
            "Epoch: 8 | Train Loss: 1.4823 | Train Accuracy: 98.0523 | Test Loss: 1.5300 | Test Accuracy: 93.9303 | Time: 42.65\n",
            "Epoch: 9 | Train Loss: 1.4796 | Train Accuracy: 98.3124 | Test Loss: 1.5310 | Test Accuracy: 93.8602 | Time: 42.17\n",
            "Epoch: 10 | Train Loss: 1.4785 | Train Accuracy: 98.4208 | Test Loss: 1.5321 | Test Accuracy: 93.7400 | Time: 43.42\n"
          ]
        }
      ],
      "source": [
        "epochs = 10\n",
        "model_cnn = CNN_2()\n",
        "criterion = nn.CrossEntropyLoss() # loss function\n",
        "optimizer = torch.optim.Adam(model_cnn.parameters(), lr=0.001)\n",
        "\n",
        "_, _, _, _, = train_model(model_cnn, epochs, trainloader, testloader, criterion, optimizer)"
      ],
      "id": "xvzHkLEoH1zb"
    },
    {
      "cell_type": "code",
      "execution_count": null,
      "metadata": {
        "colab": {
          "base_uri": "https://localhost:8080/"
        },
        "id": "VO5mugDO1aKH",
        "outputId": "9dd064ef-3e3a-4e04-d955-35bbe1dfa8e4"
      },
      "outputs": [
        {
          "name": "stdout",
          "output_type": "stream",
          "text": [
            "Learning rate: 0.1\n",
            "Epoch: 1 | Train Loss: 2.3625 | Train Accuracy: 9.9970 | Test Loss: 2.3687 | Test Accuracy: 10.0361 | Time: 41.85\n",
            "Epoch: 2 | Train Loss: 2.3624 | Train Accuracy: 10.0053 | Test Loss: 2.3687 | Test Accuracy: 10.0361 | Time: 42.70\n",
            "Epoch: 3 | Train Loss: 2.3624 | Train Accuracy: 10.0053 | Test Loss: 2.3687 | Test Accuracy: 10.0361 | Time: 42.46\n",
            "Epoch: 4 | Train Loss: 2.3624 | Train Accuracy: 10.0053 | Test Loss: 2.3687 | Test Accuracy: 10.0361 | Time: 43.36\n",
            "Epoch: 5 | Train Loss: 2.3624 | Train Accuracy: 10.0053 | Test Loss: 2.3687 | Test Accuracy: 10.0361 | Time: 43.62\n",
            "Epoch: 6 | Train Loss: 2.3624 | Train Accuracy: 10.0053 | Test Loss: 2.3687 | Test Accuracy: 10.0361 | Time: 42.81\n",
            "Epoch: 7 | Train Loss: 2.3624 | Train Accuracy: 10.0053 | Test Loss: 2.3687 | Test Accuracy: 10.0361 | Time: 43.83\n",
            "Epoch: 8 | Train Loss: 2.3624 | Train Accuracy: 10.0053 | Test Loss: 2.3687 | Test Accuracy: 10.0361 | Time: 49.45\n",
            "Epoch: 9 | Train Loss: 2.3624 | Train Accuracy: 10.0053 | Test Loss: 2.3687 | Test Accuracy: 10.0361 | Time: 43.53\n",
            "Epoch: 10 | Train Loss: 2.3624 | Train Accuracy: 10.0053 | Test Loss: 2.3687 | Test Accuracy: 10.0361 | Time: 42.90\n",
            "Learning rate: 0.01\n",
            "Epoch: 1 | Train Loss: 1.8167 | Train Accuracy: 64.4594 | Test Loss: 1.9825 | Test Accuracy: 48.6178 | Time: 44.25\n",
            "Epoch: 2 | Train Loss: 1.9585 | Train Accuracy: 50.3969 | Test Loss: 1.9998 | Test Accuracy: 46.9151 | Time: 42.75\n",
            "Epoch: 3 | Train Loss: 1.9895 | Train Accuracy: 47.2969 | Test Loss: 2.0081 | Test Accuracy: 46.0938 | Time: 42.15\n",
            "Epoch: 4 | Train Loss: 2.0342 | Train Accuracy: 42.8295 | Test Loss: 2.1360 | Test Accuracy: 33.3033 | Time: 43.30\n",
            "Epoch: 5 | Train Loss: 2.0309 | Train Accuracy: 43.1530 | Test Loss: 2.0581 | Test Accuracy: 41.0958 | Time: 42.28\n",
            "Epoch: 6 | Train Loss: 2.0551 | Train Accuracy: 40.7384 | Test Loss: 2.1160 | Test Accuracy: 35.2965 | Time: 42.11\n",
            "Epoch: 7 | Train Loss: 2.1184 | Train Accuracy: 34.4050 | Test Loss: 2.2381 | Test Accuracy: 23.0970 | Time: 42.99\n",
            "Epoch: 8 | Train Loss: 2.1445 | Train Accuracy: 31.8003 | Test Loss: 2.2754 | Test Accuracy: 19.3610 | Time: 42.38\n",
            "Epoch: 9 | Train Loss: 2.2748 | Train Accuracy: 18.7683 | Test Loss: 2.2558 | Test Accuracy: 21.3241 | Time: 42.15\n",
            "Epoch: 10 | Train Loss: 2.2218 | Train Accuracy: 24.0712 | Test Loss: 2.2873 | Test Accuracy: 18.1691 | Time: 43.54\n",
            "Learning rate: 0.001\n",
            "Epoch: 1 | Train Loss: 1.7010 | Train Accuracy: 76.4975 | Test Loss: 1.7003 | Test Accuracy: 77.0132 | Time: 42.20\n",
            "Epoch: 2 | Train Loss: 1.5411 | Train Accuracy: 92.3159 | Test Loss: 1.6287 | Test Accuracy: 84.0044 | Time: 42.25\n",
            "Epoch: 3 | Train Loss: 1.5236 | Train Accuracy: 93.9851 | Test Loss: 1.6305 | Test Accuracy: 83.8742 | Time: 42.62\n",
            "Epoch: 4 | Train Loss: 1.5158 | Train Accuracy: 94.6888 | Test Loss: 1.6098 | Test Accuracy: 85.9776 | Time: 42.70\n",
            "Epoch: 5 | Train Loss: 1.5113 | Train Accuracy: 95.1291 | Test Loss: 1.6003 | Test Accuracy: 86.7788 | Time: 41.84\n",
            "Epoch: 6 | Train Loss: 1.5088 | Train Accuracy: 95.3792 | Test Loss: 1.5954 | Test Accuracy: 87.2496 | Time: 43.95\n",
            "Epoch: 7 | Train Loss: 1.4979 | Train Accuracy: 96.4664 | Test Loss: 1.5394 | Test Accuracy: 92.9888 | Time: 42.48\n",
            "Epoch: 8 | Train Loss: 1.4795 | Train Accuracy: 98.3358 | Test Loss: 1.5422 | Test Accuracy: 92.6683 | Time: 41.89\n",
            "Epoch: 9 | Train Loss: 1.4769 | Train Accuracy: 98.5926 | Test Loss: 1.5316 | Test Accuracy: 93.7300 | Time: 42.60\n",
            "Epoch: 10 | Train Loss: 1.4768 | Train Accuracy: 98.5826 | Test Loss: 1.5325 | Test Accuracy: 93.6198 | Time: 45.07\n",
            "Learning rate: 0.0001\n",
            "Epoch: 1 | Train Loss: 1.7989 | Train Accuracy: 68.7750 | Test Loss: 1.8547 | Test Accuracy: 62.2496 | Time: 42.13\n",
            "Epoch: 2 | Train Loss: 1.6673 | Train Accuracy: 80.1928 | Test Loss: 1.8053 | Test Accuracy: 66.8069 | Time: 43.11\n",
            "Epoch: 3 | Train Loss: 1.6396 | Train Accuracy: 82.8058 | Test Loss: 1.7909 | Test Accuracy: 68.0288 | Time: 42.80\n",
            "Epoch: 4 | Train Loss: 1.6132 | Train Accuracy: 85.4289 | Test Loss: 1.7691 | Test Accuracy: 70.2925 | Time: 42.26\n",
            "Epoch: 5 | Train Loss: 1.5988 | Train Accuracy: 86.7779 | Test Loss: 1.7500 | Test Accuracy: 72.2256 | Time: 43.71\n",
            "Epoch: 6 | Train Loss: 1.5886 | Train Accuracy: 87.8185 | Test Loss: 1.7337 | Test Accuracy: 73.8682 | Time: 42.84\n",
            "Epoch: 7 | Train Loss: 1.5817 | Train Accuracy: 88.3988 | Test Loss: 1.7171 | Test Accuracy: 75.5609 | Time: 42.25\n",
            "Epoch: 8 | Train Loss: 1.5761 | Train Accuracy: 88.9258 | Test Loss: 1.7084 | Test Accuracy: 76.3021 | Time: 43.86\n",
            "Epoch: 9 | Train Loss: 1.5710 | Train Accuracy: 89.4110 | Test Loss: 1.6981 | Test Accuracy: 77.2536 | Time: 42.75\n",
            "Epoch: 10 | Train Loss: 1.5669 | Train Accuracy: 89.8096 | Test Loss: 1.6776 | Test Accuracy: 79.3670 | Time: 42.90\n"
          ]
        }
      ],
      "source": [
        "# tuning of hyper-parameters using Adam\n",
        "learning_rates = [0.1, 0.01, 0.001, 0.0001]\n",
        "\n",
        "for lr in learning_rates:\n",
        "    model = CNN_2()\n",
        "    criterion = nn.CrossEntropyLoss()\n",
        "    optimizer = torch.optim.Adam(model.parameters(), lr=lr)\n",
        "\n",
        "    train_losses = []\n",
        "    train_accs = []\n",
        "    test_losses = []\n",
        "    test_accs = []\n",
        "\n",
        "    print(\"Learning rate:\", lr)\n",
        "\n",
        "    for epoch in range(10):\n",
        "        device = torch.device(\"cuda:0\" if torch.cuda.is_available() else \"cpu\")\n",
        "        model = model.to(device)\n",
        "\n",
        "        train_running_loss = 0.0\n",
        "        train_acc = 0.0\n",
        "        test_running_loss = 0.0\n",
        "        test_acc = 0.0\n",
        "\n",
        "        # Set the model to training mode\n",
        "        model = model.train()\n",
        "        start = time()\n",
        "\n",
        "        ## training step\n",
        "        for i, (images, labels) in enumerate(trainloader):\n",
        "\n",
        "            images = images.to(device)\n",
        "            labels = labels.to(device)\n",
        "\n",
        "            ## forward + backprop + loss\n",
        "            logits = model(images)\n",
        "            loss = criterion(logits, labels)\n",
        "\n",
        "            # Reset the gradients to zero\n",
        "            optimizer.zero_grad()\n",
        "\n",
        "            loss.backward()\n",
        "\n",
        "            ## update model params\n",
        "            optimizer.step()\n",
        "\n",
        "            train_running_loss += loss.item()\n",
        "            train_acc += get_accuracy(logits, labels)\n",
        "\n",
        "        train_losses.append(train_running_loss / i)\n",
        "        train_accs.append(train_acc/i)\n",
        "\n",
        "        ## testing step\n",
        "        with torch.no_grad():\n",
        "            model = model.eval()\n",
        "            for j, (images, labels) in enumerate(testloader):\n",
        "\n",
        "                images = images.to(device)\n",
        "                labels = labels.to(device)\n",
        "\n",
        "                logits = model(images)\n",
        "                loss = criterion(logits, labels)\n",
        "\n",
        "                test_running_loss += loss.item()\n",
        "                test_acc += get_accuracy(logits, labels)\n",
        "\n",
        "        test_losses.append(test_running_loss / j)\n",
        "        test_accs.append(test_acc/j)\n",
        "\n",
        "        model.eval()\n",
        "        print(f\"Epoch: {epoch+1} | Train Loss: {train_losses[-1]:.4f} | Train Accuracy: {train_accs[-1]:.4f} | Test Loss: {test_losses[-1]:.4f} | Test Accuracy: {test_accs[-1]:.4f} | Time: {time()-start:.2f}\")"
      ],
      "id": "VO5mugDO1aKH"
    },
    {
      "cell_type": "code",
      "execution_count": null,
      "metadata": {
        "colab": {
          "base_uri": "https://localhost:8080/"
        },
        "id": "NFaHUGpYHgQ_",
        "outputId": "6f8d7ebd-b204-44d9-d4fc-9242809cd08f"
      },
      "outputs": [
        {
          "name": "stdout",
          "output_type": "stream",
          "text": [
            "Learning rate: 0.1\n",
            "Epoch: 1 | Train Loss: 1.8291 | Train Accuracy: 64.0892 | Test Loss: 1.7993 | Test Accuracy: 67.2175 | Time: 39.61\n",
            "Epoch: 2 | Train Loss: 1.6128 | Train Accuracy: 85.1871 | Test Loss: 1.7235 | Test Accuracy: 74.5192 | Time: 40.81\n",
            "Epoch: 3 | Train Loss: 1.5790 | Train Accuracy: 88.4689 | Test Loss: 1.6976 | Test Accuracy: 77.1935 | Time: 39.88\n",
            "Epoch: 4 | Train Loss: 1.5647 | Train Accuracy: 89.8946 | Test Loss: 1.6788 | Test Accuracy: 79.1066 | Time: 40.00\n",
            "Epoch: 5 | Train Loss: 1.5565 | Train Accuracy: 90.6567 | Test Loss: 1.6529 | Test Accuracy: 81.6907 | Time: 39.61\n",
            "Epoch: 6 | Train Loss: 1.5414 | Train Accuracy: 92.1608 | Test Loss: 1.6325 | Test Accuracy: 83.8041 | Time: 39.64\n",
            "Epoch: 7 | Train Loss: 1.5184 | Train Accuracy: 94.5004 | Test Loss: 1.5749 | Test Accuracy: 89.4832 | Time: 40.25\n",
            "Epoch: 8 | Train Loss: 1.5024 | Train Accuracy: 96.1046 | Test Loss: 1.5686 | Test Accuracy: 89.9539 | Time: 39.72\n",
            "Epoch: 9 | Train Loss: 1.4989 | Train Accuracy: 96.4398 | Test Loss: 1.5634 | Test Accuracy: 90.6350 | Time: 39.71\n",
            "Epoch: 10 | Train Loss: 1.4963 | Train Accuracy: 96.7199 | Test Loss: 1.5602 | Test Accuracy: 91.0457 | Time: 39.53\n",
            "Learning rate: 0.01\n",
            "Epoch: 1 | Train Loss: 2.3009 | Train Accuracy: 16.6522 | Test Loss: 2.3035 | Test Accuracy: 16.1458 | Time: 39.92\n",
            "Epoch: 2 | Train Loss: 2.1609 | Train Accuracy: 31.7753 | Test Loss: 2.0644 | Test Accuracy: 41.7869 | Time: 40.65\n",
            "Epoch: 3 | Train Loss: 1.8948 | Train Accuracy: 58.0143 | Test Loss: 1.9756 | Test Accuracy: 49.4591 | Time: 39.89\n",
            "Epoch: 4 | Train Loss: 1.8494 | Train Accuracy: 61.5578 | Test Loss: 1.9459 | Test Accuracy: 52.2135 | Time: 39.70\n",
            "Epoch: 5 | Train Loss: 1.8062 | Train Accuracy: 66.0919 | Test Loss: 1.9057 | Test Accuracy: 56.6607 | Time: 39.89\n",
            "Epoch: 6 | Train Loss: 1.7604 | Train Accuracy: 70.8044 | Test Loss: 1.8606 | Test Accuracy: 61.3882 | Time: 40.04\n",
            "Epoch: 7 | Train Loss: 1.7291 | Train Accuracy: 73.8427 | Test Loss: 1.8354 | Test Accuracy: 63.8021 | Time: 39.84\n",
            "Epoch: 8 | Train Loss: 1.7135 | Train Accuracy: 75.3052 | Test Loss: 1.8191 | Test Accuracy: 65.3946 | Time: 39.79\n",
            "Epoch: 9 | Train Loss: 1.6982 | Train Accuracy: 76.7693 | Test Loss: 1.8223 | Test Accuracy: 65.0040 | Time: 39.58\n",
            "Epoch: 10 | Train Loss: 1.6814 | Train Accuracy: 78.5135 | Test Loss: 1.7926 | Test Accuracy: 68.1190 | Time: 39.78\n",
            "Learning rate: 0.001\n",
            "Epoch: 1 | Train Loss: 2.3040 | Train Accuracy: 9.5451 | Test Loss: 2.3100 | Test Accuracy: 10.0661 | Time: 39.30\n",
            "Epoch: 2 | Train Loss: 2.3037 | Train Accuracy: 11.1159 | Test Loss: 2.3097 | Test Accuracy: 11.3181 | Time: 39.05\n",
            "Epoch: 3 | Train Loss: 2.3033 | Train Accuracy: 12.4967 | Test Loss: 2.3094 | Test Accuracy: 12.1494 | Time: 38.94\n",
            "Epoch: 4 | Train Loss: 2.3029 | Train Accuracy: 13.6406 | Test Loss: 2.3091 | Test Accuracy: 12.7905 | Time: 39.06\n",
            "Epoch: 5 | Train Loss: 2.3025 | Train Accuracy: 14.5294 | Test Loss: 2.3088 | Test Accuracy: 13.5317 | Time: 38.93\n",
            "Epoch: 6 | Train Loss: 2.3021 | Train Accuracy: 15.4166 | Test Loss: 2.3085 | Test Accuracy: 14.4131 | Time: 38.72\n",
            "Epoch: 7 | Train Loss: 2.3015 | Train Accuracy: 17.4093 | Test Loss: 2.3080 | Test Accuracy: 16.7768 | Time: 38.78\n",
            "Epoch: 8 | Train Loss: 2.3009 | Train Accuracy: 19.1902 | Test Loss: 2.3075 | Test Accuracy: 17.5881 | Time: 38.75\n",
            "Epoch: 9 | Train Loss: 2.3000 | Train Accuracy: 17.9462 | Test Loss: 2.3067 | Test Accuracy: 15.7151 | Time: 38.99\n",
            "Epoch: 10 | Train Loss: 2.2989 | Train Accuracy: 15.1948 | Test Loss: 2.3058 | Test Accuracy: 13.7119 | Time: 39.61\n",
            "Learning rate: 0.0001\n",
            "Epoch: 1 | Train Loss: 2.3034 | Train Accuracy: 15.2998 | Test Loss: 2.3097 | Test Accuracy: 15.0441 | Time: 39.55\n",
            "Epoch: 2 | Train Loss: 2.3034 | Train Accuracy: 15.4332 | Test Loss: 2.3097 | Test Accuracy: 15.1242 | Time: 39.50\n",
            "Epoch: 3 | Train Loss: 2.3034 | Train Accuracy: 15.5883 | Test Loss: 2.3097 | Test Accuracy: 15.2344 | Time: 39.62\n",
            "Epoch: 4 | Train Loss: 2.3033 | Train Accuracy: 15.7000 | Test Loss: 2.3097 | Test Accuracy: 15.3245 | Time: 39.28\n",
            "Epoch: 5 | Train Loss: 2.3033 | Train Accuracy: 15.8001 | Test Loss: 2.3096 | Test Accuracy: 15.3946 | Time: 39.31\n",
            "Epoch: 6 | Train Loss: 2.3033 | Train Accuracy: 15.9168 | Test Loss: 2.3096 | Test Accuracy: 15.4748 | Time: 39.35\n",
            "Epoch: 7 | Train Loss: 2.3032 | Train Accuracy: 16.0119 | Test Loss: 2.3096 | Test Accuracy: 15.5749 | Time: 39.72\n",
            "Epoch: 8 | Train Loss: 2.3032 | Train Accuracy: 16.1369 | Test Loss: 2.3095 | Test Accuracy: 15.6851 | Time: 40.27\n",
            "Epoch: 9 | Train Loss: 2.3031 | Train Accuracy: 16.2703 | Test Loss: 2.3095 | Test Accuracy: 15.7151 | Time: 40.45\n",
            "Epoch: 10 | Train Loss: 2.3031 | Train Accuracy: 16.3420 | Test Loss: 2.3095 | Test Accuracy: 15.7953 | Time: 39.62\n"
          ]
        }
      ],
      "source": [
        "# tuning of hyper-parameters using SGD\n",
        "learning_rates = [0.1, 0.01, 0.001, 0.0001]\n",
        "\n",
        "for lr in learning_rates:\n",
        "    model = CNN_2()\n",
        "    criterion = nn.CrossEntropyLoss()\n",
        "    optimizer = torch.optim.SGD(model.parameters(), lr=lr)\n",
        "\n",
        "    train_losses = []\n",
        "    train_accs = []\n",
        "    test_losses = []\n",
        "    test_accs = []\n",
        "\n",
        "    print(\"Learning rate:\", lr)\n",
        "\n",
        "    for epoch in range(10):\n",
        "        device = torch.device(\"cuda:0\" if torch.cuda.is_available() else \"cpu\")\n",
        "        model = model.to(device)\n",
        "\n",
        "        train_running_loss = 0.0\n",
        "        train_acc = 0.0\n",
        "        test_running_loss = 0.0\n",
        "        test_acc = 0.0\n",
        "\n",
        "        # Set the model to training mode\n",
        "        model = model.train()\n",
        "        start = time()\n",
        "\n",
        "        ## training step\n",
        "        for i, (images, labels) in enumerate(trainloader):\n",
        "\n",
        "            images = images.to(device)\n",
        "            labels = labels.to(device)\n",
        "\n",
        "            ## forward + backprop + loss\n",
        "            logits = model(images)\n",
        "            loss = criterion(logits, labels)\n",
        "\n",
        "            # Reset the gradients to zero\n",
        "            optimizer.zero_grad()\n",
        "\n",
        "            loss.backward()\n",
        "\n",
        "            ## update model params\n",
        "            optimizer.step()\n",
        "\n",
        "            train_running_loss += loss.item()\n",
        "            train_acc += get_accuracy(logits, labels)\n",
        "\n",
        "        train_losses.append(train_running_loss / i)\n",
        "        train_accs.append(train_acc/i)\n",
        "\n",
        "        ## testing step\n",
        "        with torch.no_grad():\n",
        "            model = model.eval()\n",
        "            for j, (images, labels) in enumerate(testloader):\n",
        "\n",
        "                images = images.to(device)\n",
        "                labels = labels.to(device)\n",
        "\n",
        "                logits = model(images)\n",
        "                loss = criterion(logits, labels)\n",
        "\n",
        "                test_running_loss += loss.item()\n",
        "                test_acc += get_accuracy(logits, labels)\n",
        "\n",
        "        test_losses.append(test_running_loss / j)\n",
        "        test_accs.append(test_acc/j)\n",
        "\n",
        "        model.eval()\n",
        "        print(f\"Epoch: {epoch+1} | Train Loss: {train_losses[-1]:.4f} | Train Accuracy: {train_accs[-1]:.4f} | Test Loss: {test_losses[-1]:.4f} | Test Accuracy: {test_accs[-1]:.4f} | Time: {time()-start:.2f}\")"
      ],
      "id": "NFaHUGpYHgQ_"
    },
    {
      "cell_type": "code",
      "execution_count": null,
      "metadata": {
        "colab": {
          "base_uri": "https://localhost:8080/"
        },
        "id": "sax-1P52g6jx",
        "outputId": "bc9e769e-85f5-496f-8df5-fc8bd3275ff3"
      },
      "outputs": [
        {
          "name": "stdout",
          "output_type": "stream",
          "text": [
            "Epoch: 1 | Train Loss: 1.6940 | Train Accuracy: 77.0828 | Test Loss: 1.6989 | Test Accuracy: 77.3738 | Time: 17.98\n",
            "Epoch: 2 | Train Loss: 1.5479 | Train Accuracy: 91.6455 | Test Loss: 1.6427 | Test Accuracy: 82.5621 | Time: 14.12\n",
            "Epoch: 3 | Train Loss: 1.5286 | Train Accuracy: 93.4682 | Test Loss: 1.6406 | Test Accuracy: 82.9327 | Time: 14.74\n",
            "Epoch: 4 | Train Loss: 1.5209 | Train Accuracy: 94.2102 | Test Loss: 1.6173 | Test Accuracy: 85.2564 | Time: 14.52\n",
            "Epoch: 5 | Train Loss: 1.5156 | Train Accuracy: 94.7239 | Test Loss: 1.6021 | Test Accuracy: 86.6386 | Time: 14.48\n",
            "Epoch: 6 | Train Loss: 1.4881 | Train Accuracy: 97.4920 | Test Loss: 1.5571 | Test Accuracy: 91.1358 | Time: 14.29\n",
            "Epoch: 7 | Train Loss: 1.4836 | Train Accuracy: 97.9189 | Test Loss: 1.5382 | Test Accuracy: 93.1691 | Time: 14.28\n",
            "Epoch: 8 | Train Loss: 1.4808 | Train Accuracy: 98.1790 | Test Loss: 1.5395 | Test Accuracy: 92.9587 | Time: 14.29\n",
            "Epoch: 9 | Train Loss: 1.4796 | Train Accuracy: 98.3124 | Test Loss: 1.5348 | Test Accuracy: 93.3694 | Time: 14.92\n",
            "Epoch: 10 | Train Loss: 1.4780 | Train Accuracy: 98.4675 | Test Loss: 1.5321 | Test Accuracy: 93.6298 | Time: 14.37\n",
            "Epoch: 11 | Train Loss: 1.4774 | Train Accuracy: 98.5192 | Test Loss: 1.5337 | Test Accuracy: 93.5697 | Time: 14.47\n",
            "Epoch: 12 | Train Loss: 1.4759 | Train Accuracy: 98.6793 | Test Loss: 1.5320 | Test Accuracy: 93.7700 | Time: 14.18\n",
            "Epoch: 13 | Train Loss: 1.4760 | Train Accuracy: 98.6459 | Test Loss: 1.5256 | Test Accuracy: 94.3009 | Time: 14.31\n",
            "Epoch: 14 | Train Loss: 1.4749 | Train Accuracy: 98.7677 | Test Loss: 1.5271 | Test Accuracy: 94.1106 | Time: 15.06\n",
            "Epoch: 15 | Train Loss: 1.4745 | Train Accuracy: 98.8027 | Test Loss: 1.5344 | Test Accuracy: 93.4095 | Time: 14.30\n",
            "Epoch: 16 | Train Loss: 1.4743 | Train Accuracy: 98.8194 | Test Loss: 1.5371 | Test Accuracy: 93.1290 | Time: 14.48\n",
            "Epoch: 17 | Train Loss: 1.4744 | Train Accuracy: 98.8110 | Test Loss: 1.5312 | Test Accuracy: 93.7800 | Time: 14.31\n",
            "Epoch: 18 | Train Loss: 1.4734 | Train Accuracy: 98.9078 | Test Loss: 1.5244 | Test Accuracy: 94.4311 | Time: 14.25\n",
            "Epoch: 19 | Train Loss: 1.4739 | Train Accuracy: 98.8410 | Test Loss: 1.5272 | Test Accuracy: 94.1607 | Time: 14.53\n",
            "Epoch: 20 | Train Loss: 1.4742 | Train Accuracy: 98.8227 | Test Loss: 1.5270 | Test Accuracy: 94.1306 | Time: 14.64\n"
          ]
        }
      ],
      "source": [
        "epochs = 20\n",
        "model_cnn = CNN_2()\n",
        "criterion = nn.CrossEntropyLoss() # loss function\n",
        "optimizer = torch.optim.Adam(model_cnn.parameters(), lr=0.001)\n",
        "\n",
        "train_losses_cnn, train_accs_cnn, test_losses_cnn, test_accs_cnn = train_model(model_cnn, epochs, trainloader, testloader, criterion, optimizer)"
      ],
      "id": "sax-1P52g6jx"
    },
    {
      "cell_type": "code",
      "execution_count": null,
      "metadata": {
        "colab": {
          "base_uri": "https://localhost:8080/",
          "height": 472
        },
        "id": "PnTbzCRka6U5",
        "outputId": "deb97840-8667-4fbc-89ea-9c445252b838"
      },
      "outputs": [
        {
          "data": {
            "image/png": "[encoded data removed]",
            "text/plain": [
              "<Figure size 640x480 with 1 Axes>"
            ]
          },
          "metadata": {},
          "output_type": "display_data"
        }
      ],
      "source": [
        "plt.plot(train_losses_cnn, label='Training loss')\n",
        "plt.plot(test_losses_cnn, label='Test loss')\n",
        "plt.legend()\n",
        "plt.title('Losses of Convolution Neural Network')\n",
        "plt.xlabel('Epochs')\n",
        "plt.ylabel('Loss')\n",
        "plt.show()"
      ],
      "id": "PnTbzCRka6U5"
    },
    {
      "cell_type": "code",
      "execution_count": null,
      "metadata": {
        "colab": {
          "base_uri": "https://localhost:8080/",
          "height": 472
        },
        "id": "X5pkAYK7a6GP",
        "outputId": "258e758b-40c7-4b32-ea98-8423297cdc7a"
      },
      "outputs": [
        {
          "data": {
            "image/png": "[encoded data removed]",
            "text/plain": [
              "<Figure size 640x480 with 1 Axes>"
            ]
          },
          "metadata": {},
          "output_type": "display_data"
        }
      ],
      "source": [
        "plt.plot(train_accs_cnn, label='Training accuracy')\n",
        "plt.plot(test_accs_cnn, label='Test accuracy')\n",
        "plt.legend()\n",
        "plt.title('Accuracies of Convolution Neural Network')\n",
        "plt.xlabel('Epochs')\n",
        "plt.ylabel('Accuracy')\n",
        "plt.show()"
      ],
      "id": "X5pkAYK7a6GP"
    },
    {
      "cell_type": "markdown",
      "metadata": {
        "id": "o5qyj4t_X9zq"
      },
      "source": [
        "## Table of results\n"
      ],
      "id": "o5qyj4t_X9zq"
    },
    {
      "cell_type": "code",
      "execution_count": null,
      "metadata": {
        "id": "PMiCnBbfYkdU"
      },
      "outputs": [],
      "source": [
        "import pandas as pd\n",
        "\n",
        "results = pd.DataFrame({\n",
        "    \"Model\": [\"Fully Connected\", \"Convolutional\"],\n",
        "    \"Type of layer\": [\"4 linear\", \"2 convolutional, 2 linear\"],\n",
        "    \"Optimizer\": [\"ADAM\", \"ADAM\"],\n",
        "    \"Criterion\": [\"Cross Entropy\", \"Cross Entropy\" ],\n",
        "    \"Learning rate\": [\"0.001\", \"0.001\"],\n",
        "    \"Epochs\": [\"20\", \"20\"],\n",
        "    \"Train Loss\": [train_losses_fcnn[-1], train_losses_cnn[-1]],\n",
        "    \"Train Accuracy\": [train_accs_fcnn[-1], train_accs_cnn[-1]],\n",
        "    \"Test Loss\": [test_losses_fcnn[-1], test_losses_cnn[-1]],\n",
        "    \"Test Accuracy\": [test_accs_fcnn[-1], test_accs_cnn[-1]]\n",
        "})"
      ],
      "id": "PMiCnBbfYkdU"
    },
    {
      "cell_type": "code",
      "execution_count": null,
      "metadata": {
        "colab": {
          "base_uri": "https://localhost:8080/"
        },
        "id": "77l-OgjfYkWg",
        "outputId": "be91913b-8787-4ced-94b9-345bf9db0729"
      },
      "outputs": [
        {
          "name": "stdout",
          "output_type": "stream",
          "text": [
            "             Model              Type of layer Optimizer      Criterion  \\\n",
            "0  Fully Connected                   4 linear      ADAM  Cross Entropy   \n",
            "1    Convolutional  2 convolutional, 2 linear      ADAM  Cross Entropy   \n",
            "\n",
            "  Learning rate Epochs  Train Loss  Train Accuracy  Test Loss  Test Accuracy  \n",
            "0         0.001     20    1.522140       94.021812   1.645990      82.231571  \n",
            "1         0.001     20    1.474161       98.822705   1.527011      94.130609  \n"
          ]
        }
      ],
      "source": [
        "print(results)"
      ],
      "id": "77l-OgjfYkWg"
    }
  ],
  "metadata": {
    "accelerator": "GPU",
    "colab": {
      "provenance": []
    },
    "gpuClass": "standard",
    "kernelspec": {
      "display_name": "Python 3",
      "language": "python",
      "name": "python3"
    },
    "language_info": {
      "codemirror_mode": {
        "name": "ipython",
        "version": 3
      },
      "file_extension": ".py",
      "mimetype": "text/x-python",
      "name": "python",
      "nbconvert_exporter": "python",
      "pygments_lexer": "ipython3",
      "version": "3.7.10"
    }
  },
  "nbformat": 4,
  "nbformat_minor": 5
}